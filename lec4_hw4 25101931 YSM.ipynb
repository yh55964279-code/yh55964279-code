{
  "cells": [
    {
      "cell_type": "markdown",
      "id": "cb31e0d2",
      "metadata": {},
      "source": [
        "## Homework 4 \n",
        "\n",
        "+ 학번: 25101931\n",
        "+ 이름: 염성민\n",
        "\n",
        "\n",
        "제출방법: \n",
        "+ 1) github에 본인 repository를 만들고, 작성한 소스 코드를 upload 하세요.\n",
        "+ 2) 출력 결과는 캡처하여 README.md에 첨부하세요.\n",
        "+ 3) 자신의 github README.md 화면을 캡쳐하여 과제에 제출하세요.\n",
        "\n",
        "### Exercise 1. 노래 가사 파일에서 단어 `\"Yesterday\"`의 **개수**를 세는 프로그램을 작성하세요.\n",
        "\n",
        "### tips:\n",
        "- .upper(), .lower(), .count(), "
      ]
    },
    {
      "cell_type": "code",
      "execution_count": 3,
      "id": "6d315018",
      "metadata": {},
      "outputs": [
        {
          "data": {
            "text/plain": [
              "\"Yesterday, all my troubles seemed so far away\\nNow it looks as though they're here to stay\\noh, I believe in yesterday\\n\\nSuddenly, I'm not half the man I used to be\\nThere's a shadow hanging over me\\nOh, yesterday came suddenly.\\n\\nWhy she had to go?\\nI don't know, she wouldn't say\\nI said something wrong\\nNow I long for yesterday.\\n\\nYesterday love was such an easy game to play\\nNow I need a place to hide away\\nOh, I believe in yesterday.\\n\\nWhy she had to go?\\nI don't know, she wouldn't say\\nI said something wrong\\nNow I long for yesterday.\\n\\nYesterday love was such an easy game to play\\nNow I need a place to hide away\\nOh, I believe in yesterday...\""
            ]
          },
          "execution_count": 3,
          "metadata": {},
          "output_type": "execute_result"
        }
      ],
      "source": [
        "# 파일을 불러옵니다.\n",
        "with open('yesterday.txt', 'r') as f:\n",
        "    yesterday_lyric = f.read()\n",
        "\n",
        "yesterday_lyric"
      ]
    },
    {
      "cell_type": "code",
      "execution_count": null,
      "id": "07b0a561",
      "metadata": {},
      "outputs": [
        {
          "name": "stdout",
          "output_type": "stream",
          "text": [
            "Yesterday 개수: 9\n"
          ]
        }
      ],
      "source": [
        "# TODO: Your code here\n",
        "lyric = yesterday_lyric.lower()\n",
        "\n",
        "count = lyric.count('yesterday')\n",
        "\n",
        "print(\"Yesterday 개수:\", count)"
      ]
    },
    {
      "cell_type": "markdown",
      "id": "d83697a5",
      "metadata": {},
      "source": [
        "## Excercise 2. Yesterday 노래엔 `Yesterday` 라는 말이 몇번나올까?\n",
        "\n",
        "+ 대소문자를 구분하여 `Yesterday`와 `yesterday`의 개수를 나눠서 세는 프로그램을 작성하세요.\n",
        "+ (정규표현식 `re` package 쓰지 말 것)\n",
        "\n",
        "+ tips\n",
        "    + .replace(), .split(), count()"
      ]
    },
    {
      "cell_type": "code",
      "execution_count": null,
      "id": "7c42adf4",
      "metadata": {},
      "outputs": [],
      "source": []
    },
    {
      "cell_type": "code",
      "execution_count": 8,
      "id": "e76531c0",
      "metadata": {},
      "outputs": [
        {
          "name": "stdout",
          "output_type": "stream",
          "text": [
            "Yesterday 개수: 3\n",
            "yesterday 개수: 6\n"
          ]
        }
      ],
      "source": [
        "# TODO: Your code here\n",
        "with open('yesterday.txt', 'r') as f:\n",
        "    lyrics = f.read()\n",
        "\n",
        "clean_lyrics = lyrics.replace(',', '').replace('.', '').replace('?', '').replace('!', '').replace('\\n', ' ')\n",
        "\n",
        "words = clean_lyrics.split()\n",
        "\n",
        "count_Yesterday = words.count('Yesterday')\n",
        "count_yesterday = words.count('yesterday')\n",
        "\n",
        "# 결과 출력\n",
        "print(\"Yesterday 개수:\", count_Yesterday)\n",
        "print(\"yesterday 개수:\", count_yesterday)"
      ]
    }
  ],
  "metadata": {
    "kernelspec": {
      "display_name": "Python 3",
      "language": "python",
      "name": "python3"
    },
    "language_info": {
      "codemirror_mode": {
        "name": "ipython",
        "version": 3
      },
      "file_extension": ".py",
      "mimetype": "text/x-python",
      "name": "python",
      "nbconvert_exporter": "python",
      "pygments_lexer": "ipython3",
      "version": "3.13.5"
    }
  },
  "nbformat": 4,
  "nbformat_minor": 5
}
